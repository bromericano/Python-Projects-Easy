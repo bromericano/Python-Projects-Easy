{
 "cells": [
  {
   "cell_type": "code",
   "execution_count": 3,
   "metadata": {},
   "outputs": [],
   "source": [
    "import random\n",
    "import time\n",
    "def hangman():\n",
    "    name1 = input('Player, what is your name? ')\n",
    "    print('Hello, ' + name1 + '!')\n",
    "    word_list = ['trick','bubbles','pineapple','taipei']\n",
    "    def play_again(a):\n",
    "        if a == 1:\n",
    "            play_again = input('You won! Type y to play again. ')\n",
    "            if play_again != 'y':\n",
    "                return 'Goodbye.'\n",
    "            else:\n",
    "                print('Here is another word!')\n",
    "                play()\n",
    "        else:\n",
    "            play_again = input('You lost :( Type y to play again. ')\n",
    "            if play_again != 'y':\n",
    "                return 'Goodbye.'\n",
    "            else:\n",
    "                print('Here is another word!')\n",
    "                play()\n",
    "    def play():\n",
    "        word = random.choice(word_list)\n",
    "        word_list.remove(word)\n",
    "        tries = 10\n",
    "        guesses = ''\n",
    "        while tries > 0:\n",
    "            failed = 0\n",
    "            for char in word:\n",
    "                if char in guesses:\n",
    "                    print (char)\n",
    "                else:\n",
    "                    print ('_')\n",
    "                    failed += 1\n",
    "            if failed == 0:\n",
    "                play_again(1)\n",
    "                break\n",
    "            guess = input('Choose a letter: ')\n",
    "            guesses += guess\n",
    "            if guess not in word:\n",
    "                tries -= 1\n",
    "                print('Wrong letter!')\n",
    "                print(f'You have {tries} guesses left.')\n",
    "                if tries == 0:\n",
    "                    play_again(2)\n",
    "                    break\n",
    "    play()"
   ]
  },
  {
   "cell_type": "code",
   "execution_count": null,
   "metadata": {},
   "outputs": [],
   "source": [
    "hangman()"
   ]
  },
  {
   "cell_type": "code",
   "execution_count": null,
   "metadata": {},
   "outputs": [],
   "source": []
  }
 ],
 "metadata": {
  "kernelspec": {
   "display_name": "Python 3",
   "language": "python",
   "name": "python3"
  },
  "language_info": {
   "codemirror_mode": {
    "name": "ipython",
    "version": 3
   },
   "file_extension": ".py",
   "mimetype": "text/x-python",
   "name": "python",
   "nbconvert_exporter": "python",
   "pygments_lexer": "ipython3",
   "version": "3.7.4"
  }
 },
 "nbformat": 4,
 "nbformat_minor": 2
}
