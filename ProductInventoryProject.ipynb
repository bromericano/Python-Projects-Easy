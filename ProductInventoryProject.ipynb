{
 "cells": [
  {
   "cell_type": "code",
   "execution_count": null,
   "metadata": {},
   "outputs": [],
   "source": [
    "def floor_plan_cost():\n",
    "    width = int(input('Please enter the width of your floor plan in meters: '))\n",
    "    length = int(input('Please enter the length of your floor plan in meters: '))\n",
    "    price = int(input('Please enter the price per meter of your selected tile: '))\n",
    "    result = width*length*price\n",
    "    \n",
    "    print('The total cost to tile your floor plan is: ${}'.format(result)+'.')"
   ]
  },
  {
   "cell_type": "code",
   "execution_count": null,
   "metadata": {},
   "outputs": [],
   "source": [
    "floor_plan_cost()"
   ]
  },
  {
   "cell_type": "code",
   "execution_count": null,
   "metadata": {},
   "outputs": [],
   "source": []
  },
  {
   "cell_type": "code",
   "execution_count": null,
   "metadata": {},
   "outputs": [],
   "source": []
  },
  {
   "cell_type": "code",
   "execution_count": null,
   "metadata": {},
   "outputs": [],
   "source": []
  },
  {
   "cell_type": "code",
   "execution_count": 94,
   "metadata": {},
   "outputs": [],
   "source": [
    "class Product():\n",
    "    # Class that labels products with price, id number, and quantity\n",
    "    def __init__(self,product_id,price=0,quantity=0):\n",
    "        self.price = price\n",
    "        self.product_id = product_id\n",
    "        self.quantity = quantity\n",
    "        \n",
    "    def buy(self):\n",
    "        #Provides price and amount purchased by customer, along with adjusting inventory.\n",
    "        buy_amount = int(input('How many {}s would you like to buy?: '.format(self.product_id)))\n",
    "        if self.quantity < 0:\n",
    "            print('Sorry, we are out of the chosen product.')\n",
    "        elif buy_amount > self.quantity:\n",
    "                print(f'Sorry, we only have {self.quantity} {self.product_id}s left.')\n",
    "        else:\n",
    "            if buy_amount == 1:\n",
    "                print(f\"You have chosen {buy_amount} {self.product_id}. \\nYour total is: ${buy_amount*self.price}\")\n",
    "            else:\n",
    "                print(f\"You have chosen {buy_amount} {self.product_id}s. \\nYour total is: ${buy_amount*self.price}\")\n",
    "                self.quantity -= buy_amount\n",
    "        if self.quantity <5:\n",
    "            print(f'Please order more {self.product_id} ASAP! There are only {self.quantity} left!')\n",
    "        else:\n",
    "            None\n",
    "        \n",
    "    def restock(self):\n",
    "        restock_amount = int(input(f'How many {self.product_id}s have been added to inventory?: '))\n",
    "        self.quantity +=restock_amount\n",
    "        print(f'{restock_amount} {self.product_id}s have been added to inventory. \\n{self.product_id.capitalize()} inventory is now {self.quantity}.')\n"
   ]
  },
  {
   "cell_type": "code",
   "execution_count": 88,
   "metadata": {},
   "outputs": [],
   "source": [
    "coffee = Product('coffee',5,10)"
   ]
  },
  {
   "cell_type": "code",
   "execution_count": 65,
   "metadata": {},
   "outputs": [],
   "source": [
    "tea = Product('tea',3,10)"
   ]
  },
  {
   "cell_type": "code",
   "execution_count": 66,
   "metadata": {},
   "outputs": [],
   "source": [
    "soda = Product('soda',2,10)"
   ]
  },
  {
   "cell_type": "code",
   "execution_count": 67,
   "metadata": {},
   "outputs": [],
   "source": [
    "cake = Product('cake',2.5,10)"
   ]
  },
  {
   "cell_type": "code",
   "execution_count": 68,
   "metadata": {},
   "outputs": [],
   "source": [
    "cookie = Product('cookie',1.5,10)"
   ]
  },
  {
   "cell_type": "code",
   "execution_count": 93,
   "metadata": {},
   "outputs": [
    {
     "name": "stdout",
     "output_type": "stream",
     "text": [
      "How many coffees would you like to buy?: 10\n",
      "Sorry, we only have 1 coffees left.\n",
      "Please order more coffee ASAP! There are only 1 left!\n"
     ]
    }
   ],
   "source": [
    "coffee.buy()"
   ]
  },
  {
   "cell_type": "code",
   "execution_count": 30,
   "metadata": {},
   "outputs": [
    {
     "data": {
      "text/plain": [
       "8"
      ]
     },
     "execution_count": 30,
     "metadata": {},
     "output_type": "execute_result"
    }
   ],
   "source": [
    "coffee.quantity"
   ]
  },
  {
   "cell_type": "code",
   "execution_count": 70,
   "metadata": {},
   "outputs": [
    {
     "name": "stdout",
     "output_type": "stream",
     "text": [
      "How many coffees have been added to inventory?: 30\n",
      "30 coffees have been added to inventory. \n",
      "Coffee inventory is now 33.\n"
     ]
    }
   ],
   "source": [
    "coffee.restock()"
   ]
  },
  {
   "cell_type": "code",
   "execution_count": null,
   "metadata": {},
   "outputs": [],
   "source": []
  }
 ],
 "metadata": {
  "kernelspec": {
   "display_name": "Python 3",
   "language": "python",
   "name": "python3"
  },
  "language_info": {
   "codemirror_mode": {
    "name": "ipython",
    "version": 3
   },
   "file_extension": ".py",
   "mimetype": "text/x-python",
   "name": "python",
   "nbconvert_exporter": "python",
   "pygments_lexer": "ipython3",
   "version": "3.7.4"
  }
 },
 "nbformat": 4,
 "nbformat_minor": 2
}
