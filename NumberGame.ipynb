{
 "cells": [
  {
   "cell_type": "code",
   "execution_count": 1,
   "metadata": {},
   "outputs": [],
   "source": [
    "import random\n",
    "import time\n",
    "\n",
    "def number_game():\n",
    "    name = input('What is your name? ')\n",
    "    print('Hello, '+name+'!')\n",
    "    time.sleep(1)\n",
    "    def play():\n",
    "        number_range = [0,1,2,3,4,5,6,7,8,9,10,11,12,13,14,15,16,17,18,19,20]\n",
    "        number = random.choice(number_range)\n",
    "        guess = int(input('Guess a number: '))\n",
    "        while guess !=number:\n",
    "            if guess < number:\n",
    "                print('Higher!')\n",
    "                guess = int(input('Guess a number: '))\n",
    "            if guess > number:\n",
    "                print('Lower!')\n",
    "                guess = int(input('Guess a number: '))\n",
    "            if guess == number:\n",
    "                print('You got it!')\n",
    "                break\n",
    "        play_again = input('Want to play again? y/n ')\n",
    "        if play_again == 'y':\n",
    "            play()\n",
    "        else:\n",
    "            print('Goodbye!')\n",
    "            time.sleep(1)\n",
    "    play()"
   ]
  },
  {
   "cell_type": "code",
   "execution_count": 2,
   "metadata": {},
   "outputs": [
    {
     "name": "stdout",
     "output_type": "stream",
     "text": [
      "What is your name? Beava\n",
      "Hello, Beava!\n",
      "Guess a number: 10\n",
      "Higher!\n",
      "Guess a number: 15\n",
      "Higher!\n",
      "Guess a number: 17\n",
      "Higher!\n",
      "Guess a number: 18\n",
      "Higher!\n",
      "Guess a number: 19\n",
      "You got it!\n",
      "Want to play again? y/n n\n",
      "Goodbye!\n"
     ]
    }
   ],
   "source": [
    "number_game()"
   ]
  },
  {
   "cell_type": "code",
   "execution_count": null,
   "metadata": {},
   "outputs": [],
   "source": []
  }
 ],
 "metadata": {
  "kernelspec": {
   "display_name": "Python 3",
   "language": "python",
   "name": "python3"
  },
  "language_info": {
   "codemirror_mode": {
    "name": "ipython",
    "version": 3
   },
   "file_extension": ".py",
   "mimetype": "text/x-python",
   "name": "python",
   "nbconvert_exporter": "python",
   "pygments_lexer": "ipython3",
   "version": "3.7.4"
  }
 },
 "nbformat": 4,
 "nbformat_minor": 2
}
